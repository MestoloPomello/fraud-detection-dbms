{
  "nbformat": 4,
  "nbformat_minor": 0,
  "metadata": {
    "colab": {
      "provenance": []
    },
    "kernelspec": {
      "name": "python3",
      "display_name": "Python 3"
    },
    "language_info": {
      "name": "python"
    }
  },
  "cells": [
    {
      "cell_type": "code",
      "execution_count": 44,
      "metadata": {
        "id": "cnKYPMRJVpeD"
      },
      "outputs": [],
      "source": [
        "# Necessary imports for this notebook\n",
        "import os\n",
        "\n",
        "import numpy as np\n",
        "import pandas as pd\n",
        "\n",
        "import datetime\n",
        "import time\n",
        "\n",
        "import random\n",
        "\n",
        "# For plotting\n",
        "%matplotlib inline\n",
        "\n",
        "import matplotlib.pyplot as plt\n",
        "import seaborn as sns\n",
        "\n",
        "sns.set_style('darkgrid', {'axes.facecolor': '0.9'})"
      ]
    },
    {
      "cell_type": "code",
      "source": [
        "def generate_customer_profiles_table(n_customers, random_state=0):\n",
        "\n",
        "    np.random.seed(random_state)\n",
        "\n",
        "    customer_id_properties=[]\n",
        "\n",
        "    # Generate customer properties from random distributions\n",
        "    for customer_id in range(n_customers):\n",
        "\n",
        "        x_customer_id = np.random.uniform(0,100)\n",
        "        y_customer_id = np.random.uniform(0,100)\n",
        "\n",
        "        mean_amount = np.random.uniform(5,100) # Arbitrary (but sensible) value\n",
        "        std_amount = mean_amount/2 # Arbitrary (but sensible) value\n",
        "\n",
        "        mean_nb_tx_per_day = np.random.uniform(0,4) # Arbitrary (but sensible) value\n",
        "\n",
        "        customer_id_properties.append([customer_id,\n",
        "                                      x_customer_id, y_customer_id,\n",
        "                                      mean_amount, std_amount,\n",
        "                                      mean_nb_tx_per_day])\n",
        "\n",
        "    customer_profiles_table = pd.DataFrame(customer_id_properties, columns=['CUSTOMER_ID',\n",
        "                                                                      'x_customer_id', 'y_customer_id',\n",
        "                                                                      'mean_amount', 'std_amount',\n",
        "                                                                      'mean_nb_tx_per_day'])\n",
        "\n",
        "    return customer_profiles_table\n",
        "\n",
        "\n",
        "# n_customers = 1000\n",
        "# customer_profiles_table = generate_customer_profiles_table(n_customers, random_state = 0)\n",
        "# customer_profiles_table"
      ],
      "metadata": {
        "collapsed": true,
        "id": "OWo8CbhTVvG2"
      },
      "execution_count": 45,
      "outputs": []
    },
    {
      "cell_type": "code",
      "source": [
        "def generate_terminal_profiles_table(n_terminals, random_state=0):\n",
        "\n",
        "    np.random.seed(random_state)\n",
        "\n",
        "    terminal_id_properties=[]\n",
        "\n",
        "    # Generate terminal properties from random distributions\n",
        "    for terminal_id in range(n_terminals):\n",
        "\n",
        "        x_terminal_id = np.random.uniform(0,100)\n",
        "        y_terminal_id = np.random.uniform(0,100)\n",
        "\n",
        "        terminal_id_properties.append([terminal_id,\n",
        "                                      x_terminal_id, y_terminal_id])\n",
        "\n",
        "    terminal_profiles_table = pd.DataFrame(terminal_id_properties, columns=['TERMINAL_ID',\n",
        "                                                                      'x_terminal_id', 'y_terminal_id'])\n",
        "\n",
        "    return terminal_profiles_table\n",
        "\n",
        "\n",
        "# n_terminals = 200\n",
        "# terminal_profiles_table = generate_terminal_profiles_table(n_terminals, random_state = 0)\n",
        "# terminal_profiles_table"
      ],
      "metadata": {
        "id": "2V7T5_jiWnb0"
      },
      "execution_count": 46,
      "outputs": []
    },
    {
      "cell_type": "code",
      "source": [
        "def get_list_terminals_within_radius(customer_profile, x_y_terminals, r):\n",
        "\n",
        "    # Use numpy arrays in the following to speed up computations\n",
        "\n",
        "    # Location (x,y) of customer as numpy array\n",
        "    x_y_customer = customer_profile[['x_customer_id','y_customer_id']].values.astype(float)\n",
        "\n",
        "    # Squared difference in coordinates between customer and terminal locations\n",
        "    squared_diff_x_y = np.square(x_y_customer - x_y_terminals)\n",
        "\n",
        "    # Sum along rows and compute suared root to get distance\n",
        "    dist_x_y = np.sqrt(np.sum(squared_diff_x_y, axis=1))\n",
        "\n",
        "    # Get the indices of terminals which are at a distance less than r\n",
        "    available_terminals = list(np.where(dist_x_y<r)[0])\n",
        "\n",
        "    # Return the list of terminal IDs\n",
        "    return available_terminals\n",
        "\n",
        "\n",
        "# # We first get the geographical locations of all terminals as a numpy array\n",
        "# x_y_terminals = terminal_profiles_table[['x_terminal_id','y_terminal_id']].values.astype(float)\n",
        "# # And get the list of terminals within radius of $50$ for the last customer\n",
        "# get_list_terminals_within_radius(customer_profiles_table.iloc[4], x_y_terminals=x_y_terminals, r=50)"
      ],
      "metadata": {
        "id": "vCXaNpLaYbZW"
      },
      "execution_count": 47,
      "outputs": []
    },
    {
      "cell_type": "code",
      "source": [
        "# %%capture\n",
        "\n",
        "# terminals_available_to_customer_fig, ax = plt.subplots(figsize=(5,5))\n",
        "\n",
        "# # Plot locations of terminals\n",
        "# ax.scatter(terminal_profiles_table.x_terminal_id.values,\n",
        "#            terminal_profiles_table.y_terminal_id.values,\n",
        "#            color='blue', label = 'Locations of terminals')\n",
        "\n",
        "# # Plot location of the last customer\n",
        "# customer_id=4\n",
        "# ax.scatter(customer_profiles_table.iloc[customer_id].x_customer_id,\n",
        "#            customer_profiles_table.iloc[customer_id].y_customer_id,\n",
        "#            color='red',label=\"Location of last customer\")\n",
        "\n",
        "# ax.legend(loc = 'upper left', bbox_to_anchor=(1.05, 1))\n",
        "\n",
        "# # Plot the region within a radius of 50 of the last customer\n",
        "# circ = plt.Circle((customer_profiles_table.iloc[customer_id].x_customer_id,\n",
        "#                    customer_profiles_table.iloc[customer_id].y_customer_id), radius=50, color='g', alpha=0.2)\n",
        "# ax.add_patch(circ)\n",
        "\n",
        "# fontsize=15\n",
        "\n",
        "# ax.set_title(\"Green circle: \\n Terminals within a radius of 50 \\n of the last customer\")\n",
        "# ax.set_xlim([0, 100])\n",
        "# ax.set_ylim([0, 100])\n",
        "\n",
        "# ax.set_xlabel('x_terminal_id', fontsize=fontsize)\n",
        "# ax.set_ylabel('y_terminal_id', fontsize=fontsize)\n",
        "\n",
        "# # Aggiunta terminali disponibili per clienti\n",
        "# customer_profiles_table['available_terminals']=customer_profiles_table.apply(lambda x : get_list_terminals_within_radius(x, x_y_terminals=x_y_terminals, r=50), axis=1)\n",
        "# customer_profiles_table"
      ],
      "metadata": {
        "id": "xS9ym5BeYmVK"
      },
      "execution_count": 48,
      "outputs": []
    },
    {
      "cell_type": "code",
      "source": [
        "def generate_transactions_table(customer_profile, start_date = \"2018-04-01\", nb_days = 10):\n",
        "\n",
        "    customer_transactions = []\n",
        "\n",
        "    random.seed(int(customer_profile.CUSTOMER_ID))\n",
        "    np.random.seed(int(customer_profile.CUSTOMER_ID))\n",
        "\n",
        "    # For all days\n",
        "    for day in range(nb_days):\n",
        "\n",
        "        # Random number of transactions for that day\n",
        "        nb_tx = np.random.poisson(customer_profile.mean_nb_tx_per_day)\n",
        "\n",
        "        # If nb_tx positive, let us generate transactions\n",
        "        if nb_tx>0:\n",
        "\n",
        "            for tx in range(nb_tx):\n",
        "\n",
        "                # Time of transaction: Around noon, std 20000 seconds. This choice aims at simulating the fact that\n",
        "                # most transactions occur during the day.\n",
        "                time_tx = int(np.random.normal(86400/2, 20000))\n",
        "\n",
        "                # If transaction time between 0 and 86400, let us keep it, otherwise, let us discard it\n",
        "                if (time_tx>0) and (time_tx<86400):\n",
        "\n",
        "                    # Amount is drawn from a normal distribution\n",
        "                    amount = np.random.normal(customer_profile.mean_amount, customer_profile.std_amount)\n",
        "\n",
        "                    # If amount negative, draw from a uniform distribution\n",
        "                    if amount<0:\n",
        "                        amount = np.random.uniform(0,customer_profile.mean_amount*2)\n",
        "\n",
        "                    amount=np.round(amount,decimals=2)\n",
        "\n",
        "                    if len(customer_profile.available_terminals)>0:\n",
        "\n",
        "                        terminal_id = random.choice(customer_profile.available_terminals)\n",
        "\n",
        "                        customer_transactions.append([time_tx+day*86400, day,\n",
        "                                                      customer_profile.CUSTOMER_ID,\n",
        "                                                      terminal_id, amount])\n",
        "\n",
        "    customer_transactions = pd.DataFrame(customer_transactions, columns=['TX_TIME_SECONDS', 'TX_TIME_DAYS', 'CUSTOMER_ID', 'TERMINAL_ID', 'TX_AMOUNT'])\n",
        "\n",
        "    if len(customer_transactions)>0:\n",
        "        customer_transactions['TX_DATETIME'] = pd.to_datetime(customer_transactions[\"TX_TIME_SECONDS\"], unit='s', origin=start_date)\n",
        "        customer_transactions=customer_transactions[['TX_DATETIME','CUSTOMER_ID', 'TERMINAL_ID', 'TX_AMOUNT','TX_TIME_SECONDS', 'TX_TIME_DAYS']]\n",
        "\n",
        "    return customer_transactions\n",
        "\n",
        "\n",
        "# transaction_table_customer_0=generate_transactions_table(customer_profiles_table.iloc[0],\n",
        "#                                                          start_date = \"2018-04-01\",\n",
        "#                                                          nb_days = 5)\n",
        "# transaction_table_customer_0"
      ],
      "metadata": {
        "id": "ekkwphRmW94d"
      },
      "execution_count": 49,
      "outputs": []
    },
    {
      "cell_type": "code",
      "source": [
        "# Generazione transazioni per tutti i clienti\n",
        "# transactions_df=customer_profiles_table.groupby('CUSTOMER_ID').apply(lambda x : generate_transactions_table(x.iloc[0], nb_days=5)).reset_index(drop=True)\n",
        "# transactions_df"
      ],
      "metadata": {
        "id": "fhQyRC_3ZSi0"
      },
      "execution_count": 50,
      "outputs": []
    },
    {
      "cell_type": "code",
      "source": [
        "# Generazione intero dataset\n",
        "def generate_dataset(n_customers = 10000, n_terminals = 1000000, nb_days=90, start_date=\"2018-04-01\", r=5):\n",
        "\n",
        "    start_time=time.time()\n",
        "    customer_profiles_table = generate_customer_profiles_table(n_customers, random_state = 0)\n",
        "    print(\"Time to generate customer profiles table: {0:.2}s\".format(time.time()-start_time))\n",
        "\n",
        "    start_time=time.time()\n",
        "    terminal_profiles_table = generate_terminal_profiles_table(n_terminals, random_state = 1)\n",
        "    print(\"Time to generate terminal profiles table: {0:.2}s\".format(time.time()-start_time))\n",
        "\n",
        "    start_time=time.time()\n",
        "    x_y_terminals = terminal_profiles_table[['x_terminal_id','y_terminal_id']].values.astype(float)\n",
        "    customer_profiles_table['available_terminals'] = customer_profiles_table.apply(lambda x : get_list_terminals_within_radius(x, x_y_terminals=x_y_terminals, r=r), axis=1)\n",
        "    # With Pandarallel\n",
        "    #customer_profiles_table['available_terminals'] = customer_profiles_table.parallel_apply(lambda x : get_list_closest_terminals(x, x_y_terminals=x_y_terminals, r=r), axis=1)\n",
        "    customer_profiles_table['nb_terminals']=customer_profiles_table.available_terminals.apply(len)\n",
        "    print(\"Time to associate terminals to customers: {0:.2}s\".format(time.time()-start_time))\n",
        "\n",
        "    start_time=time.time()\n",
        "    transactions_df=customer_profiles_table.groupby('CUSTOMER_ID').apply(lambda x : generate_transactions_table(x.iloc[0], nb_days=nb_days)).reset_index(drop=True)\n",
        "    # With Pandarallel\n",
        "    #transactions_df=customer_profiles_table.groupby('CUSTOMER_ID').parallel_apply(lambda x : generate_transactions_table(x.iloc[0], nb_days=nb_days)).reset_index(drop=True)\n",
        "    print(\"Time to generate transactions: {0:.2}s\".format(time.time()-start_time))\n",
        "\n",
        "    # Sort transactions chronologically\n",
        "    transactions_df=transactions_df.sort_values('TX_DATETIME')\n",
        "    # Reset indices, starting from 0\n",
        "    transactions_df.reset_index(inplace=True,drop=True)\n",
        "    transactions_df.reset_index(inplace=True)\n",
        "    # TRANSACTION_ID are the dataframe indices, starting from 0\n",
        "    transactions_df.rename(columns = {'index':'TRANSACTION_ID'}, inplace = True)\n",
        "\n",
        "    return (customer_profiles_table, terminal_profiles_table, transactions_df)\n",
        "\n",
        "\n",
        "(customer_profiles_table, terminal_profiles_table, transactions_df)=\\\n",
        "    generate_dataset(n_customers = 5000,\n",
        "                     n_terminals = 1000,\n",
        "                     nb_days=360,\n",
        "                     start_date=\"2018-04-01\",\n",
        "                     r=5)"
      ],
      "metadata": {
        "colab": {
          "base_uri": "https://localhost:8080/"
        },
        "id": "tYXOd-clZddY",
        "outputId": "0777722c-1da9-4cee-8919-855e1c0388b8"
      },
      "execution_count": 51,
      "outputs": [
        {
          "output_type": "stream",
          "name": "stdout",
          "text": [
            "Time to generate customer profiles table: 0.052s\n",
            "Time to generate terminal profiles table: 0.0059s\n",
            "Time to associate terminals to customers: 1.8s\n"
          ]
        },
        {
          "output_type": "stream",
          "name": "stderr",
          "text": [
            "<ipython-input-51-855df281c542>:21: FutureWarning: The behavior of DataFrame concatenation with empty or all-NA entries is deprecated. In a future version, this will no longer exclude empty or all-NA columns when determining the result dtypes. To retain the old behavior, exclude the relevant entries before the concat operation.\n",
            "  transactions_df=customer_profiles_table.groupby('CUSTOMER_ID').apply(lambda x : generate_transactions_table(x.iloc[0], nb_days=nb_days)).reset_index(drop=True)\n",
            "<ipython-input-51-855df281c542>:21: DeprecationWarning: DataFrameGroupBy.apply operated on the grouping columns. This behavior is deprecated, and in a future version of pandas the grouping columns will be excluded from the operation. Either pass `include_groups=False` to exclude the groupings or explicitly select the grouping columns after groupby to silence this warning.\n",
            "  transactions_df=customer_profiles_table.groupby('CUSTOMER_ID').apply(lambda x : generate_transactions_table(x.iloc[0], nb_days=nb_days)).reset_index(drop=True)\n"
          ]
        },
        {
          "output_type": "stream",
          "name": "stdout",
          "text": [
            "Time to generate transactions: 1.9e+02s\n"
          ]
        }
      ]
    },
    {
      "cell_type": "code",
      "source": [
        "# Generiamo le tabelle in CSV\n",
        "from google.colab import files\n",
        "\n",
        "# customers = generate_customer_profiles_table(1000)\n",
        "# terminals = generate_terminal_profiles_table(200)\n",
        "\n",
        "customer_profiles_table.to_csv('customers.csv')\n",
        "terminal_profiles_table.to_csv('terminals.csv')\n",
        "transactions_df.to_csv('transactions.csv')"
      ],
      "metadata": {
        "id": "6T1QS6PfXFEm"
      },
      "execution_count": 52,
      "outputs": []
    }
  ]
}